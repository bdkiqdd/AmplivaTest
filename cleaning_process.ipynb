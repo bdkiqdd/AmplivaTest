{
 "cells": [
  {
   "cell_type": "code",
   "execution_count": 2,
   "metadata": {},
   "outputs": [],
   "source": [
    "import re\n",
    "import string\n",
    "\n",
    "import pandas as pd"
   ]
  },
  {
   "cell_type": "code",
   "execution_count": 3,
   "metadata": {},
   "outputs": [],
   "source": [
    "tmp = pd.read_excel(\"raw_data/Areas_in_blore.xlsx\")\n",
    "tmp.to_csv('raw_data/Areas_in_blore.csv')"
   ]
  },
  {
   "cell_type": "markdown",
   "metadata": {},
   "source": [
    "# Lab Cleaning Process"
   ]
  },
  {
   "cell_type": "markdown",
   "metadata": {},
   "source": [
    "## Normal cleaning"
   ]
  },
  {
   "cell_type": "code",
   "execution_count": 4,
   "metadata": {},
   "outputs": [
    {
     "data": {
      "text/html": [
       "<div>\n",
       "<style scoped>\n",
       "    .dataframe tbody tr th:only-of-type {\n",
       "        vertical-align: middle;\n",
       "    }\n",
       "\n",
       "    .dataframe tbody tr th {\n",
       "        vertical-align: top;\n",
       "    }\n",
       "\n",
       "    .dataframe thead th {\n",
       "        text-align: right;\n",
       "    }\n",
       "</style>\n",
       "<table border=\"1\" class=\"dataframe\">\n",
       "  <thead>\n",
       "    <tr style=\"text-align: right;\">\n",
       "      <th></th>\n",
       "      <th>url</th>\n",
       "      <th>address</th>\n",
       "      <th>name</th>\n",
       "      <th>online_order</th>\n",
       "      <th>book_table</th>\n",
       "      <th>rate</th>\n",
       "      <th>votes</th>\n",
       "      <th>phone</th>\n",
       "      <th>location</th>\n",
       "      <th>rest_type</th>\n",
       "      <th>dish_liked</th>\n",
       "      <th>cuisines</th>\n",
       "      <th>approx_cost(for two people)</th>\n",
       "      <th>reviews_list</th>\n",
       "      <th>menu_item</th>\n",
       "      <th>listed_in(type)</th>\n",
       "      <th>listed_in(city)</th>\n",
       "    </tr>\n",
       "  </thead>\n",
       "  <tbody>\n",
       "    <tr>\n",
       "      <th>0</th>\n",
       "      <td>https://www.zomato.com/bangalore/jalsa-banasha...</td>\n",
       "      <td>942, 21st Main Road, 2nd Stage, Banashankari, ...</td>\n",
       "      <td>Jalsa</td>\n",
       "      <td>Yes</td>\n",
       "      <td>Yes</td>\n",
       "      <td>4.1/5</td>\n",
       "      <td>775</td>\n",
       "      <td>080 42297555\\r\\n+91 9743772233</td>\n",
       "      <td>Banashankari</td>\n",
       "      <td>Casual Dining</td>\n",
       "      <td>Pasta, Lunch Buffet, Masala Papad, Paneer Laja...</td>\n",
       "      <td>North Indian, Mughlai, Chinese</td>\n",
       "      <td>800</td>\n",
       "      <td>[('Rated 4.0', 'RATED\\n  A beautiful place to ...</td>\n",
       "      <td>[]</td>\n",
       "      <td>Buffet</td>\n",
       "      <td>Banashankari</td>\n",
       "    </tr>\n",
       "    <tr>\n",
       "      <th>1</th>\n",
       "      <td>https://www.zomato.com/bangalore/spice-elephan...</td>\n",
       "      <td>2nd Floor, 80 Feet Road, Near Big Bazaar, 6th ...</td>\n",
       "      <td>Spice Elephant</td>\n",
       "      <td>Yes</td>\n",
       "      <td>No</td>\n",
       "      <td>4.1/5</td>\n",
       "      <td>787</td>\n",
       "      <td>080 41714161</td>\n",
       "      <td>Banashankari</td>\n",
       "      <td>Casual Dining</td>\n",
       "      <td>Momos, Lunch Buffet, Chocolate Nirvana, Thai G...</td>\n",
       "      <td>Chinese, North Indian, Thai</td>\n",
       "      <td>800</td>\n",
       "      <td>[('Rated 4.0', 'RATED\\n  Had been here for din...</td>\n",
       "      <td>[]</td>\n",
       "      <td>Buffet</td>\n",
       "      <td>Banashankari</td>\n",
       "    </tr>\n",
       "    <tr>\n",
       "      <th>2</th>\n",
       "      <td>https://www.zomato.com/SanchurroBangalore?cont...</td>\n",
       "      <td>1112, Next to KIMS Medical College, 17th Cross...</td>\n",
       "      <td>San Churro Cafe</td>\n",
       "      <td>Yes</td>\n",
       "      <td>No</td>\n",
       "      <td>3.8/5</td>\n",
       "      <td>918</td>\n",
       "      <td>+91 966348799</td>\n",
       "      <td>Banashankari</td>\n",
       "      <td>Cafe, Casual Dining</td>\n",
       "      <td>Churros, Cannelloni, Minestrone Soup, Hot Choc...</td>\n",
       "      <td>Cafe, Mexican, Italian</td>\n",
       "      <td>800</td>\n",
       "      <td>[('Rated 3.0', \"RATED\\n  Ambience is not that ...</td>\n",
       "      <td>[]</td>\n",
       "      <td>Buffet</td>\n",
       "      <td>Banashankari</td>\n",
       "    </tr>\n",
       "    <tr>\n",
       "      <th>3</th>\n",
       "      <td>https://www.zomato/bangalore/addhuri-udupi-bho...</td>\n",
       "      <td>1st Floor, Annakuteera, 3rd Stage, Banashankar...</td>\n",
       "      <td>Addhuri Udupi Bhojana</td>\n",
       "      <td>No</td>\n",
       "      <td>No</td>\n",
       "      <td>3.7/5</td>\n",
       "      <td>88</td>\n",
       "      <td>+91 9620009302</td>\n",
       "      <td>Banashankari</td>\n",
       "      <td>Quick Bites</td>\n",
       "      <td>Masala Dosa</td>\n",
       "      <td>South Indian, North Indian</td>\n",
       "      <td>300</td>\n",
       "      <td>[('Rated 4.0', \"RATED\\n  Great food and proper...</td>\n",
       "      <td>[]</td>\n",
       "      <td>Buffet</td>\n",
       "      <td>Banashankari</td>\n",
       "    </tr>\n",
       "    <tr>\n",
       "      <th>4</th>\n",
       "      <td>https://www.zomato.com/bangalore/grand-village...</td>\n",
       "      <td>10, 3rd Floor, Lakshmi Associates, Gandhi Baza...</td>\n",
       "      <td>Grand Village</td>\n",
       "      <td>No</td>\n",
       "      <td>No</td>\n",
       "      <td>3.8/5</td>\n",
       "      <td>166</td>\n",
       "      <td>+91 8026612447\\r\\n+91 990121000</td>\n",
       "      <td>Basavanagudi</td>\n",
       "      <td>Casual Dining</td>\n",
       "      <td>Panipuri, Gol Gappe</td>\n",
       "      <td>North Indian, Rajasthani</td>\n",
       "      <td>600</td>\n",
       "      <td>[('Rated 4.0', 'RATED\\n  Very good restaurant ...</td>\n",
       "      <td>[]</td>\n",
       "      <td>Buffet</td>\n",
       "      <td>Banashankari</td>\n",
       "    </tr>\n",
       "  </tbody>\n",
       "</table>\n",
       "</div>"
      ],
      "text/plain": [
       "                                                 url  \\\n",
       "0  https://www.zomato.com/bangalore/jalsa-banasha...   \n",
       "1  https://www.zomato.com/bangalore/spice-elephan...   \n",
       "2  https://www.zomato.com/SanchurroBangalore?cont...   \n",
       "3  https://www.zomato/bangalore/addhuri-udupi-bho...   \n",
       "4  https://www.zomato.com/bangalore/grand-village...   \n",
       "\n",
       "                                             address                   name  \\\n",
       "0  942, 21st Main Road, 2nd Stage, Banashankari, ...                  Jalsa   \n",
       "1  2nd Floor, 80 Feet Road, Near Big Bazaar, 6th ...         Spice Elephant   \n",
       "2  1112, Next to KIMS Medical College, 17th Cross...        San Churro Cafe   \n",
       "3  1st Floor, Annakuteera, 3rd Stage, Banashankar...  Addhuri Udupi Bhojana   \n",
       "4  10, 3rd Floor, Lakshmi Associates, Gandhi Baza...          Grand Village   \n",
       "\n",
       "  online_order book_table   rate  votes                            phone  \\\n",
       "0          Yes        Yes  4.1/5    775   080 42297555\\r\\n+91 9743772233   \n",
       "1          Yes         No  4.1/5    787                     080 41714161   \n",
       "2          Yes         No  3.8/5    918                    +91 966348799   \n",
       "3           No         No  3.7/5     88                   +91 9620009302   \n",
       "4           No         No  3.8/5    166  +91 8026612447\\r\\n+91 990121000   \n",
       "\n",
       "       location            rest_type  \\\n",
       "0  Banashankari        Casual Dining   \n",
       "1  Banashankari        Casual Dining   \n",
       "2  Banashankari  Cafe, Casual Dining   \n",
       "3  Banashankari          Quick Bites   \n",
       "4  Basavanagudi        Casual Dining   \n",
       "\n",
       "                                          dish_liked  \\\n",
       "0  Pasta, Lunch Buffet, Masala Papad, Paneer Laja...   \n",
       "1  Momos, Lunch Buffet, Chocolate Nirvana, Thai G...   \n",
       "2  Churros, Cannelloni, Minestrone Soup, Hot Choc...   \n",
       "3                                        Masala Dosa   \n",
       "4                                Panipuri, Gol Gappe   \n",
       "\n",
       "                         cuisines approx_cost(for two people)  \\\n",
       "0  North Indian, Mughlai, Chinese                         800   \n",
       "1     Chinese, North Indian, Thai                         800   \n",
       "2          Cafe, Mexican, Italian                         800   \n",
       "3      South Indian, North Indian                         300   \n",
       "4        North Indian, Rajasthani                         600   \n",
       "\n",
       "                                        reviews_list menu_item  \\\n",
       "0  [('Rated 4.0', 'RATED\\n  A beautiful place to ...        []   \n",
       "1  [('Rated 4.0', 'RATED\\n  Had been here for din...        []   \n",
       "2  [('Rated 3.0', \"RATED\\n  Ambience is not that ...        []   \n",
       "3  [('Rated 4.0', \"RATED\\n  Great food and proper...        []   \n",
       "4  [('Rated 4.0', 'RATED\\n  Very good restaurant ...        []   \n",
       "\n",
       "  listed_in(type) listed_in(city)  \n",
       "0          Buffet    Banashankari  \n",
       "1          Buffet    Banashankari  \n",
       "2          Buffet    Banashankari  \n",
       "3          Buffet    Banashankari  \n",
       "4          Buffet    Banashankari  "
      ]
     },
     "execution_count": 4,
     "metadata": {},
     "output_type": "execute_result"
    }
   ],
   "source": [
    "df = pd.read_csv(\"raw_data/data_file_20210527182730.csv\")\n",
    "df.head()"
   ]
  },
  {
   "cell_type": "code",
   "execution_count": 5,
   "metadata": {},
   "outputs": [
    {
     "name": "stderr",
     "output_type": "stream",
     "text": [
      "/tmp/ipykernel_2211180/1931422542.py:1: FutureWarning: The default value of regex will change from True to False in a future version.\n",
      "  df['address'] = df['address'].str.replace(r'['+ string.punctuation + ']',\" \",)\n",
      "/tmp/ipykernel_2211180/1931422542.py:2: FutureWarning: The default value of regex will change from True to False in a future version.\n",
      "  df['reviews_list'] = df['reviews_list'].str.replace(r'['+ string.punctuation + ']',\" \") # A small problem on the initial, but with more regex, can be fixed (I think :) )\n"
     ]
    }
   ],
   "source": [
    "df['address'] = df['address'].str.replace(r'['+ string.punctuation + ']',\" \",)\n",
    "df['reviews_list'] = df['reviews_list'].str.replace(r'['+ string.punctuation + ']',\" \") # A small problem on the initial, but with more regex, can be fixed (I think :) )  "
   ]
  },
  {
   "cell_type": "code",
   "execution_count": 6,
   "metadata": {},
   "outputs": [
    {
     "name": "stderr",
     "output_type": "stream",
     "text": [
      "/tmp/ipykernel_2211180/272737479.py:1: FutureWarning: The default value of regex will change from True to False in a future version.\n",
      "  df['phone'] = df['phone'].str.replace(r'[+ ]',\"\")\n"
     ]
    }
   ],
   "source": [
    "df['phone'] = df['phone'].str.replace(r'[+ ]',\"\")"
   ]
  },
  {
   "cell_type": "code",
   "execution_count": 7,
   "metadata": {},
   "outputs": [],
   "source": [
    "df[['contact number 1','contact number 2']] = df['phone'].str.split(\"\\r\\n\",expand=True).fillna(\"No info\")"
   ]
  },
  {
   "cell_type": "code",
   "execution_count": 8,
   "metadata": {},
   "outputs": [
    {
     "data": {
      "text/plain": [
       "url                               0\n",
       "address                           0\n",
       "name                              0\n",
       "online_order                      0\n",
       "book_table                        0\n",
       "rate                           1021\n",
       "votes                             0\n",
       "phone                            83\n",
       "location                          1\n",
       "rest_type                        32\n",
       "dish_liked                     4077\n",
       "cuisines                          8\n",
       "approx_cost(for two people)      14\n",
       "reviews_list                      0\n",
       "menu_item                         0\n",
       "listed_in(type)                   0\n",
       "listed_in(city)                   0\n",
       "contact number 1                  0\n",
       "contact number 2                  0\n",
       "dtype: int64"
      ]
     },
     "execution_count": 8,
     "metadata": {},
     "output_type": "execute_result"
    }
   ],
   "source": [
    "df.isnull().sum() # Has some nulls, but all depends"
   ]
  },
  {
   "cell_type": "markdown",
   "metadata": {},
   "source": [
    "## Cities"
   ]
  },
  {
   "cell_type": "markdown",
   "metadata": {},
   "source": [
    "**Acho que não entendi essa jossa :'(** "
   ]
  },
  {
   "cell_type": "code",
   "execution_count": 5,
   "metadata": {},
   "outputs": [
    {
     "data": {
      "text/html": [
       "<div>\n",
       "<style scoped>\n",
       "    .dataframe tbody tr th:only-of-type {\n",
       "        vertical-align: middle;\n",
       "    }\n",
       "\n",
       "    .dataframe tbody tr th {\n",
       "        vertical-align: top;\n",
       "    }\n",
       "\n",
       "    .dataframe thead th {\n",
       "        text-align: right;\n",
       "    }\n",
       "</style>\n",
       "<table border=\"1\" class=\"dataframe\">\n",
       "  <thead>\n",
       "    <tr style=\"text-align: right;\">\n",
       "      <th></th>\n",
       "      <th>Unnamed: 0</th>\n",
       "      <th>Area</th>\n",
       "      <th>Taluk</th>\n",
       "      <th>District</th>\n",
       "      <th>State</th>\n",
       "      <th>Pincode</th>\n",
       "    </tr>\n",
       "  </thead>\n",
       "  <tbody>\n",
       "    <tr>\n",
       "      <th>0</th>\n",
       "      <td>0</td>\n",
       "      <td>A F Station Yelahanka</td>\n",
       "      <td>Bangalore North</td>\n",
       "      <td>Bangalore</td>\n",
       "      <td>KARNATAKA</td>\n",
       "      <td>560063</td>\n",
       "    </tr>\n",
       "    <tr>\n",
       "      <th>1</th>\n",
       "      <td>1</td>\n",
       "      <td>Agram</td>\n",
       "      <td>Bangalore South</td>\n",
       "      <td>Bangalore</td>\n",
       "      <td>KARNATAKA</td>\n",
       "      <td>560007</td>\n",
       "    </tr>\n",
       "    <tr>\n",
       "      <th>2</th>\n",
       "      <td>2</td>\n",
       "      <td>Air Force Hospital</td>\n",
       "      <td>Bangalore North</td>\n",
       "      <td>Bangalore</td>\n",
       "      <td>KARNATAKA</td>\n",
       "      <td>560007</td>\n",
       "    </tr>\n",
       "    <tr>\n",
       "      <th>3</th>\n",
       "      <td>3</td>\n",
       "      <td>Amruthahalli</td>\n",
       "      <td>Bangalore North</td>\n",
       "      <td>Bangalore</td>\n",
       "      <td>KARNATAKA</td>\n",
       "      <td>560092</td>\n",
       "    </tr>\n",
       "    <tr>\n",
       "      <th>4</th>\n",
       "      <td>4</td>\n",
       "      <td>Anandnagar Bangalore</td>\n",
       "      <td>Bangalore North</td>\n",
       "      <td>Bangalore</td>\n",
       "      <td>KARNATAKA</td>\n",
       "      <td>560024</td>\n",
       "    </tr>\n",
       "  </tbody>\n",
       "</table>\n",
       "</div>"
      ],
      "text/plain": [
       "   Unnamed: 0                   Area            Taluk   District      State  \\\n",
       "0           0  A F Station Yelahanka  Bangalore North  Bangalore  KARNATAKA   \n",
       "1           1                  Agram  Bangalore South  Bangalore  KARNATAKA   \n",
       "2           2     Air Force Hospital  Bangalore North  Bangalore  KARNATAKA   \n",
       "3           3           Amruthahalli  Bangalore North  Bangalore  KARNATAKA   \n",
       "4           4   Anandnagar Bangalore  Bangalore North  Bangalore  KARNATAKA   \n",
       "\n",
       "   Pincode  \n",
       "0   560063  \n",
       "1   560007  \n",
       "2   560007  \n",
       "3   560092  \n",
       "4   560024  "
      ]
     },
     "execution_count": 5,
     "metadata": {},
     "output_type": "execute_result"
    }
   ],
   "source": [
    "df_areas = pd.read_csv('raw_data/Areas_in_blore.csv')\n",
    "df_areas.head()"
   ]
  },
  {
   "cell_type": "code",
   "execution_count": 15,
   "metadata": {},
   "outputs": [
    {
     "data": {
      "text/plain": [
       "0    Bangalore\n",
       "Name: District, dtype: object"
      ]
     },
     "execution_count": 15,
     "metadata": {},
     "output_type": "execute_result"
    }
   ],
   "source": [
    "df_areas['District'].drop_duplicates()"
   ]
  },
  {
   "cell_type": "code",
   "execution_count": 12,
   "metadata": {},
   "outputs": [
    {
     "data": {
      "text/plain": [
       "0    Banashankari\n",
       "1    Banashankari\n",
       "2    Banashankari\n",
       "3    Banashankari\n",
       "4    Basavanagudi\n",
       "Name: location, dtype: object"
      ]
     },
     "execution_count": 12,
     "metadata": {},
     "output_type": "execute_result"
    }
   ],
   "source": [
    "df['location'].head()"
   ]
  },
  {
   "cell_type": "code",
   "execution_count": 13,
   "metadata": {},
   "outputs": [
    {
     "data": {
      "text/plain": [
       "0                        Banashankari\n",
       "4                        Basavanagudi\n",
       "6                         Mysore Road\n",
       "38                          Jayanagar\n",
       "46                 Kumaraswamy Layout\n",
       "                    ...              \n",
       "5736                Central Bangalore\n",
       "6554                     Sanjay Nagar\n",
       "6742                      Brookefield\n",
       "6789       ITPL Main Road, Whitefield\n",
       "6811    Varthur Main Road, Whitefield\n",
       "Name: location, Length: 67, dtype: object"
      ]
     },
     "execution_count": 13,
     "metadata": {},
     "output_type": "execute_result"
    }
   ],
   "source": [
    "df['location'].drop_duplicates()"
   ]
  },
  {
   "cell_type": "markdown",
   "metadata": {},
   "source": [
    "## Testing"
   ]
  },
  {
   "cell_type": "code",
   "execution_count": 31,
   "metadata": {},
   "outputs": [],
   "source": [
    "null_columns = [ c for c in df.columns if df[c].isnull().any()]"
   ]
  },
  {
   "cell_type": "code",
   "execution_count": 32,
   "metadata": {},
   "outputs": [
    {
     "data": {
      "text/plain": [
       "['rate',\n",
       " 'phone',\n",
       " 'location',\n",
       " 'rest_type',\n",
       " 'dish_liked',\n",
       " 'cuisines',\n",
       " 'approx_cost(for two people)']"
      ]
     },
     "execution_count": 32,
     "metadata": {},
     "output_type": "execute_result"
    }
   ],
   "source": [
    "null_columns"
   ]
  },
  {
   "cell_type": "code",
   "execution_count": 34,
   "metadata": {},
   "outputs": [
    {
     "data": {
      "text/html": [
       "<div>\n",
       "<style scoped>\n",
       "    .dataframe tbody tr th:only-of-type {\n",
       "        vertical-align: middle;\n",
       "    }\n",
       "\n",
       "    .dataframe tbody tr th {\n",
       "        vertical-align: top;\n",
       "    }\n",
       "\n",
       "    .dataframe thead th {\n",
       "        text-align: right;\n",
       "    }\n",
       "</style>\n",
       "<table border=\"1\" class=\"dataframe\">\n",
       "  <thead>\n",
       "    <tr style=\"text-align: right;\">\n",
       "      <th></th>\n",
       "      <th>address</th>\n",
       "      <th>book_table</th>\n",
       "      <th>contact number 1</th>\n",
       "      <th>contact number 2</th>\n",
       "      <th>listed_in(city)</th>\n",
       "      <th>listed_in(type)</th>\n",
       "      <th>menu_item</th>\n",
       "      <th>name</th>\n",
       "      <th>online_order</th>\n",
       "      <th>reviews_list</th>\n",
       "      <th>url</th>\n",
       "      <th>votes</th>\n",
       "    </tr>\n",
       "  </thead>\n",
       "  <tbody>\n",
       "    <tr>\n",
       "      <th>0</th>\n",
       "      <td>942  21st Main Road  2nd Stage  Banashankari  ...</td>\n",
       "      <td>Yes</td>\n",
       "      <td>08042297555</td>\n",
       "      <td>919743772233</td>\n",
       "      <td>Banashankari</td>\n",
       "      <td>Buffet</td>\n",
       "      <td>[]</td>\n",
       "      <td>Jalsa</td>\n",
       "      <td>Yes</td>\n",
       "      <td>Rated 4 0    RATED\\n  A beautiful place to ...</td>\n",
       "      <td>https://www.zomato.com/bangalore/jalsa-banasha...</td>\n",
       "      <td>775</td>\n",
       "    </tr>\n",
       "    <tr>\n",
       "      <th>1</th>\n",
       "      <td>2nd Floor  80 Feet Road  Near Big Bazaar  6th ...</td>\n",
       "      <td>No</td>\n",
       "      <td>08041714161</td>\n",
       "      <td>No info</td>\n",
       "      <td>Banashankari</td>\n",
       "      <td>Buffet</td>\n",
       "      <td>[]</td>\n",
       "      <td>Spice Elephant</td>\n",
       "      <td>Yes</td>\n",
       "      <td>Rated 4 0    RATED\\n  Had been here for din...</td>\n",
       "      <td>https://www.zomato.com/bangalore/spice-elephan...</td>\n",
       "      <td>787</td>\n",
       "    </tr>\n",
       "    <tr>\n",
       "      <th>2</th>\n",
       "      <td>1112  Next to KIMS Medical College  17th Cross...</td>\n",
       "      <td>No</td>\n",
       "      <td>91966348799</td>\n",
       "      <td>No info</td>\n",
       "      <td>Banashankari</td>\n",
       "      <td>Buffet</td>\n",
       "      <td>[]</td>\n",
       "      <td>San Churro Cafe</td>\n",
       "      <td>Yes</td>\n",
       "      <td>Rated 3 0    RATED\\n  Ambience is not that ...</td>\n",
       "      <td>https://www.zomato.com/SanchurroBangalore?cont...</td>\n",
       "      <td>918</td>\n",
       "    </tr>\n",
       "    <tr>\n",
       "      <th>3</th>\n",
       "      <td>1st Floor  Annakuteera  3rd Stage  Banashankar...</td>\n",
       "      <td>No</td>\n",
       "      <td>919620009302</td>\n",
       "      <td>No info</td>\n",
       "      <td>Banashankari</td>\n",
       "      <td>Buffet</td>\n",
       "      <td>[]</td>\n",
       "      <td>Addhuri Udupi Bhojana</td>\n",
       "      <td>No</td>\n",
       "      <td>Rated 4 0    RATED\\n  Great food and proper...</td>\n",
       "      <td>https://www.zomato/bangalore/addhuri-udupi-bho...</td>\n",
       "      <td>88</td>\n",
       "    </tr>\n",
       "    <tr>\n",
       "      <th>4</th>\n",
       "      <td>10  3rd Floor  Lakshmi Associates  Gandhi Baza...</td>\n",
       "      <td>No</td>\n",
       "      <td>918026612447</td>\n",
       "      <td>91990121000</td>\n",
       "      <td>Banashankari</td>\n",
       "      <td>Buffet</td>\n",
       "      <td>[]</td>\n",
       "      <td>Grand Village</td>\n",
       "      <td>No</td>\n",
       "      <td>Rated 4 0    RATED\\n  Very good restaurant ...</td>\n",
       "      <td>https://www.zomato.com/bangalore/grand-village...</td>\n",
       "      <td>166</td>\n",
       "    </tr>\n",
       "  </tbody>\n",
       "</table>\n",
       "</div>"
      ],
      "text/plain": [
       "                                             address book_table  \\\n",
       "0  942  21st Main Road  2nd Stage  Banashankari  ...        Yes   \n",
       "1  2nd Floor  80 Feet Road  Near Big Bazaar  6th ...         No   \n",
       "2  1112  Next to KIMS Medical College  17th Cross...         No   \n",
       "3  1st Floor  Annakuteera  3rd Stage  Banashankar...         No   \n",
       "4  10  3rd Floor  Lakshmi Associates  Gandhi Baza...         No   \n",
       "\n",
       "  contact number 1 contact number 2 listed_in(city) listed_in(type) menu_item  \\\n",
       "0      08042297555     919743772233    Banashankari          Buffet        []   \n",
       "1      08041714161          No info    Banashankari          Buffet        []   \n",
       "2      91966348799          No info    Banashankari          Buffet        []   \n",
       "3     919620009302          No info    Banashankari          Buffet        []   \n",
       "4     918026612447      91990121000    Banashankari          Buffet        []   \n",
       "\n",
       "                    name online_order  \\\n",
       "0                  Jalsa          Yes   \n",
       "1         Spice Elephant          Yes   \n",
       "2        San Churro Cafe          Yes   \n",
       "3  Addhuri Udupi Bhojana           No   \n",
       "4          Grand Village           No   \n",
       "\n",
       "                                        reviews_list  \\\n",
       "0     Rated 4 0    RATED\\n  A beautiful place to ...   \n",
       "1     Rated 4 0    RATED\\n  Had been here for din...   \n",
       "2     Rated 3 0    RATED\\n  Ambience is not that ...   \n",
       "3     Rated 4 0    RATED\\n  Great food and proper...   \n",
       "4     Rated 4 0    RATED\\n  Very good restaurant ...   \n",
       "\n",
       "                                                 url  votes  \n",
       "0  https://www.zomato.com/bangalore/jalsa-banasha...    775  \n",
       "1  https://www.zomato.com/bangalore/spice-elephan...    787  \n",
       "2  https://www.zomato.com/SanchurroBangalore?cont...    918  \n",
       "3  https://www.zomato/bangalore/addhuri-udupi-bho...     88  \n",
       "4  https://www.zomato.com/bangalore/grand-village...    166  "
      ]
     },
     "execution_count": 34,
     "metadata": {},
     "output_type": "execute_result"
    }
   ],
   "source": [
    "df_output_bad = df[null_columns]\n",
    "df_output_bad.head()\n",
    "\n",
    "df_output_good = df[df.columns.difference(null_columns)]\n",
    "df_output_good.head()"
   ]
  },
  {
   "cell_type": "code",
   "execution_count": null,
   "metadata": {},
   "outputs": [],
   "source": []
  }
 ],
 "metadata": {
  "kernelspec": {
   "display_name": "Python 3.10.5 ('DS')",
   "language": "python",
   "name": "python3"
  },
  "language_info": {
   "codemirror_mode": {
    "name": "ipython",
    "version": 3
   },
   "file_extension": ".py",
   "mimetype": "text/x-python",
   "name": "python",
   "nbconvert_exporter": "python",
   "pygments_lexer": "ipython3",
   "version": "3.10.5"
  },
  "orig_nbformat": 4,
  "vscode": {
   "interpreter": {
    "hash": "c03f37140393d34acd81cf91a578141e3bdb7593554dca97bb4ac7b3aae855aa"
   }
  }
 },
 "nbformat": 4,
 "nbformat_minor": 2
}
