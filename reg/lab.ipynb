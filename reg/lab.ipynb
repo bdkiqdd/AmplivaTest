{
 "cells": [
  {
   "cell_type": "markdown",
   "metadata": {},
   "source": [
    "## Creating the base"
   ]
  },
  {
   "cell_type": "code",
   "execution_count": 4,
   "metadata": {},
   "outputs": [],
   "source": [
    "import requests as re\n",
    "import logging\n",
    "import json"
   ]
  },
  {
   "cell_type": "code",
   "execution_count": 14,
   "metadata": {},
   "outputs": [],
   "source": [
    "# Logging to help find problems and tests\n",
    "logging.basicConfig(filename = 'log.txt', format = '%(asctime)s - %(levelname)s: %(message)s'\\\n",
    "                    , level = logging.INFO)"
   ]
  },
  {
   "cell_type": "code",
   "execution_count": 15,
   "metadata": {},
   "outputs": [],
   "source": [
    "# Pattern to the api search construction\n",
    "wanted_types = [\"tafsir\",\"translation\",\"quran\",\"transliteration\",\"versebyverse\"]\n",
    "\n",
    "URL = \"http://api.alquran.cloud/v1/\"\n",
    "topic = 'edition'\n",
    "lang = 'en'\n",
    "format_ = 'text'"
   ]
  },
  {
   "cell_type": "code",
   "execution_count": 16,
   "metadata": {},
   "outputs": [
    {
     "name": "stdout",
     "output_type": "stream",
     "text": [
      "{\"code\":404,\"status\":\"NOT FOUND\",\"data\":\"Invalid format.\"}\n",
      "{\"code\":200,\"status\":\"OK\",\"data\":[{\"identifier\":\"en.ahmedali\",\"language\":\"en\",\"name\":\"Ahmed Ali\",\"englishName\":\"Ahmed Ali\",\"format\":\"text\",\"type\":\"translation\",\"direction\":\"ltr\"},{\"identifier\":\"en.ahmedraza\",\"language\":\"en\",\"name\":\"Ahmed Raza Khan\",\"englishName\":\"Ahmed Raza Khan\",\"format\":\"text\",\"type\":\"translation\",\"direction\":\"ltr\"},{\"identifier\":\"en.arberry\",\"language\":\"en\",\"name\":\"Arberry\",\"englishName\":\"A. J. Arberry\",\"format\":\"text\",\"type\":\"translation\",\"direction\":\"ltr\"},{\"identifier\":\"en.asad\",\"language\":\"en\",\"name\":\"Asad\",\"englishName\":\"Muhammad Asad\",\"format\":\"text\",\"type\":\"translation\",\"direction\":\"ltr\"},{\"identifier\":\"en.daryabadi\",\"language\":\"en\",\"name\":\"Daryabadi\",\"englishName\":\"Abdul Majid Daryabadi\",\"format\":\"text\",\"type\":\"translation\",\"direction\":\"ltr\"},{\"identifier\":\"en.hilali\",\"language\":\"en\",\"name\":\"Hilali & Khan\",\"englishName\":\"Muhammad Taqi-ud-Din al-Hilali and Muhammad Muhsin Khan\",\"format\":\"text\",\"type\":\"translation\",\"direction\":\"ltr\"},{\"identifier\":\"en.pickthall\",\"language\":\"en\",\"name\":\"Pickthall\",\"englishName\":\"Mohammed Marmaduke William Pickthall\",\"format\":\"text\",\"type\":\"translation\",\"direction\":\"ltr\"},{\"identifier\":\"en.qaribullah\",\"language\":\"en\",\"name\":\"Qaribullah & Darwish\",\"englishName\":\"Hasan al-Fatih Qaribullah and Ahmad Darwish\",\"format\":\"text\",\"type\":\"translation\",\"direction\":\"ltr\"},{\"identifier\":\"en.sahih\",\"language\":\"en\",\"name\":\"Saheeh International\",\"englishName\":\"Saheeh International\",\"format\":\"text\",\"type\":\"translation\",\"direction\":\"ltr\"},{\"identifier\":\"en.sarwar\",\"language\":\"en\",\"name\":\"Sarwar\",\"englishName\":\"Muhammad Sarwar\",\"format\":\"text\",\"type\":\"translation\",\"direction\":\"ltr\"},{\"identifier\":\"en.yusufali\",\"language\":\"en\",\"name\":\"Yusuf Ali\",\"englishName\":\"Abdullah Yusuf Ali\",\"format\":\"text\",\"type\":\"translation\",\"direction\":\"ltr\"},{\"identifier\":\"en.maududi\",\"language\":\"en\",\"name\":\"Maududi\",\"englishName\":\"Abul Ala Maududi\",\"format\":\"text\",\"type\":\"translation\",\"direction\":\"ltr\"},{\"identifier\":\"en.shakir\",\"language\":\"en\",\"name\":\"Shakir\",\"englishName\":\"Mohammad Habib Shakir\",\"format\":\"text\",\"type\":\"translation\",\"direction\":\"ltr\"},{\"identifier\":\"en.itani\",\"language\":\"en\",\"name\":\"Clear Qur'an - Talal Itani\",\"englishName\":\"Clear Qur'an by Talal Itani\",\"format\":\"text\",\"type\":\"translation\",\"direction\":\"ltr\"},{\"identifier\":\"en.mubarakpuri\",\"language\":\"en\",\"name\":\"Mubarakpuri\",\"englishName\":\"Mubarakpuri\",\"format\":\"text\",\"type\":\"translation\",\"direction\":\"ltr\"},{\"identifier\":\"en.qarai\",\"language\":\"en\",\"name\":\"Qarai\",\"englishName\":\"Qarai\",\"format\":\"text\",\"type\":\"translation\",\"direction\":\"ltr\"},{\"identifier\":\"en.wahiduddin\",\"language\":\"en\",\"name\":\"Wahiduddin Khan\",\"englishName\":\"Wahiduddin Khan\",\"format\":\"text\",\"type\":\"translation\",\"direction\":\"ltr\"}]}\n",
      "{\"code\":404,\"status\":\"NOT FOUND\",\"data\":\"Invalid format.\"}\n",
      "{\"code\":200,\"status\":\"OK\",\"data\":[{\"identifier\":\"en.transliteration\",\"language\":\"en\",\"name\":\"Transliteration\",\"englishName\":\"English Transliteration\",\"format\":\"text\",\"type\":\"transliteration\",\"direction\":\"ltr\"}]}\n",
      "{\"code\":404,\"status\":\"NOT FOUND\",\"data\":\"Invalid format.\"}\n"
     ]
    }
   ],
   "source": [
    "for t in wanted_types:\n",
    "    response = re.get(url=f'{URL}{topic}?language={lang}&format={format_}&type={t}') # Filters taken from this sentence (Raw JSON files containing the Quran text in English translation with the following JSON structure:)\n",
    "    print(response.text)\n",
    "    \n",
    "# Checked on database and looks like, tree of the wanted formats, doesn't have a english version on text format "
   ]
  },
  {
   "cell_type": "code",
   "execution_count": 17,
   "metadata": {},
   "outputs": [],
   "source": [
    "# Get the data in any situation\n",
    "editions = {'data':[]}\n",
    "for t in wanted_types:\n",
    "    response = re.get(url=f'{URL}{topic}?language={lang}&format={format_}&type={t}')\n",
    "    \n",
    "    if response.status_code == 200:\n",
    "        api_editions = response.json()\n",
    "        editions['data'].append({'editions':api_editions['data'][0]['identifier']}) \n",
    "    else:\n",
    "        logging.info(f\"Don't have edition to TYPE {t.upper()}\")\n",
    "\n",
    "\n",
    "# response = re.get(url=f'{URL}{topic}?language={lang}&format={format_}&type={t}')\n",
    "# response.json()"
   ]
  },
  {
   "cell_type": "code",
   "execution_count": 18,
   "metadata": {},
   "outputs": [
    {
     "name": "stdout",
     "output_type": "stream",
     "text": [
      "{'data': [{'editions': 'en.ahmedali'}, {'editions': 'en.transliteration'}]}\n"
     ]
    }
   ],
   "source": [
    "# print(editions)"
   ]
  },
  {
   "cell_type": "code",
   "execution_count": null,
   "metadata": {},
   "outputs": [],
   "source": [
    "# This thing create the json, that will be used to save the data \n",
    "final_json = {'data':[]}\n",
    "topic = \"juz\"\n",
    "for editions_ in editions['data']:\n",
    "    for e in editions_.values():\n",
    "        for juz in range(1, 31):    \n",
    "            logging.info(f\"In progress juz: {juz} - e: {e}\" )\n",
    "            response = re.get(f\"{URL}{topic}/{juz}/{e}\")\n",
    "            mid_level = response.json()\n",
    "            for k,v in zip(mid_level[\"data\"][\"ayahs\"],mid_level[\"data\"][\"ayahs\"]):    \n",
    "                final_json[\"data\"].append({\n",
    "                e: {\n",
    "                    juz: {\n",
    "                        k[\"surah\"][\"englishName\"]\n",
    "                        :\n",
    "                        v[\"text\"]\n",
    "                        }\n",
    "                    }\n",
    "                })\n",
    "\n",
    "\n",
    "\n",
    "# response = re.get(f\"{URL}{topic}/1/en.ahmedali\")\n",
    "# t = response.json()\n",
    "# for value in t['data']['ayahs']:\n",
    "#     print(value['text'])\n",
    "final_json"
   ]
  },
  {
   "cell_type": "code",
   "execution_count": 20,
   "metadata": {},
   "outputs": [],
   "source": [
    "result = json.dumps(final_json)"
   ]
  },
  {
   "cell_type": "code",
   "execution_count": 21,
   "metadata": {},
   "outputs": [],
   "source": [
    "# Creating the result file\n",
    "with open('raw_json.json','w') as file_:\n",
    "    file_.write(result)"
   ]
  },
  {
   "cell_type": "markdown",
   "metadata": {},
   "source": [
    "## SQL"
   ]
  },
  {
   "cell_type": "code",
   "execution_count": 9,
   "metadata": {},
   "outputs": [],
   "source": [
    "# Module to connect to the MySQL (Explain why not used MariaDB on the final)\n",
    "\n",
    "import mysql.connector as mconn\n",
    "\n",
    "logging.info(\"Starting connection to MySQL\")\n",
    "\n",
    "try:\n",
    "    conn = mconn.connect(host='localhost',user='root',\\\n",
    "    password='12345',database='base',port = 3310)\n",
    "    logging.info(\"Connected to MySQL\")\n",
    "except Exception as ex:\n",
    "    logging.error(\"Failed to connect to MySQL: %s\",ex)\n",
    "    sys.exit()\n",
    "finally:\n",
    "    logging.info(\"Connection module finalized!\")\n",
    "cursor = conn.cursor()\n",
    "logging.info(\"Cursor initialized\")"
   ]
  },
  {
   "cell_type": "code",
   "execution_count": null,
   "metadata": {},
   "outputs": [],
   "source": [
    "# cursor.execute('DROP TABLE TB_quaron;')\n",
    "# conn.commit()"
   ]
  },
  {
   "cell_type": "code",
   "execution_count": 7,
   "metadata": {},
   "outputs": [],
   "source": [
    "# Reading the json data\n",
    "with open('result.json','r') as file_:\n",
    "    raw_json = json.load(file_)\n",
    "    \n",
    "# Query to create table on the database\n",
    "create_sql = \"\"\"\n",
    "                CREATE TABLE IF NOT EXISTS TB_quran (\n",
    "                id integer NOT NULL PRIMARY KEY AUTO_INCREMENT,\n",
    "                edition TEXT NOT NULL,\n",
    "                juz TEXT NOT NULL,\n",
    "                surah TEXT NOT NULL,\n",
    "                text TEXT NOT NULL\n",
    "                );\n",
    "\"\"\" \n",
    "cursor.execute(create_sql)\n",
    "conn.commit()"
   ]
  },
  {
   "cell_type": "code",
   "execution_count": 8,
   "metadata": {},
   "outputs": [],
   "source": [
    "# Getting the data from json structure and Inserting under the database\n",
    "\n",
    "for value in raw_json['data']:\n",
    "    for edition,value in value.items():\n",
    "        for juz,value in value.items():\n",
    "            for surah,text in value.items():\n",
    "                inset_sql = f\"\"\"\n",
    "                    INSERT INTO TB_quran(edition,juz,surah,text) VALUES (%s,%s,%s,%s);\n",
    "                \"\"\"\n",
    "                cursor.execute(inset_sql,tuple((edition,juz,surah,text)))\n",
    "conn.commit()"
   ]
  },
  {
   "cell_type": "markdown",
   "metadata": {},
   "source": [
    "## Optimization and Beyond"
   ]
  },
  {
   "cell_type": "markdown",
   "metadata": {},
   "source": [
    "This archive is a Jupyter notebook and can't go to the Production, but, how that's a challenge that I think you want to see my way to work, I preferred to do here. <br/>\n",
    "Now, why not use the MariaDB, I hadn`t a lot of time to do this test and I had some problems with the mariadb connector, so I quit MariaDB and did that on MySQL (That, let's agree, is almost the same thing haha), anyway the codes here can be easily used on MariaDB too.\n",
    "\n",
    "About the Optimization:\n",
    " > All this code, can be a modularized script, that can be useful for a lot of other things.\n",
    " \n",
    " > I used raw python, but with sqlalchemy and maybe some frameworks, the job can be more easy to do.\n",
    "\n",
    " > All the process can be faster with more time of planning, that can be a good thing if hypothetically someone need to handle with this code on the future.\n",
    "\n",
    " > The errors management, can be better too, maybe more information on logs (We ever can be better..)"
   ]
  }
 ],
 "metadata": {
  "kernelspec": {
   "display_name": "eng",
   "language": "python",
   "name": "python3"
  },
  "language_info": {
   "codemirror_mode": {
    "name": "ipython",
    "version": 3
   },
   "file_extension": ".py",
   "mimetype": "text/x-python",
   "name": "python",
   "nbconvert_exporter": "python",
   "pygments_lexer": "ipython3",
   "version": "3.10.11"
  },
  "orig_nbformat": 4
 },
 "nbformat": 4,
 "nbformat_minor": 2
}
